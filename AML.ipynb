{
  "nbformat": 4,
  "nbformat_minor": 0,
  "metadata": {
    "colab": {
      "provenance": [],
      "authorship_tag": "ABX9TyMAOGxF4diiL0yBF+tQTT2e",
      "include_colab_link": true
    },
    "kernelspec": {
      "name": "python3",
      "display_name": "Python 3"
    },
    "language_info": {
      "name": "python"
    }
  },
  "cells": [
    {
      "cell_type": "markdown",
      "metadata": {
        "id": "view-in-github",
        "colab_type": "text"
      },
      "source": [
        "<a href=\"https://colab.research.google.com/github/mandalivaishnavi/vaishnavi19/blob/main/AML.ipynb\" target=\"_parent\"><img src=\"https://colab.research.google.com/assets/colab-badge.svg\" alt=\"Open In Colab\"/></a>"
      ]
    },
    {
      "cell_type": "code",
      "source": [
        "add=lambda x,y:x+y\n",
        "print(add(5,3))"
      ],
      "metadata": {
        "colab": {
          "base_uri": "https://localhost:8080/"
        },
        "id": "e2msCNkKxJPQ",
        "outputId": "c6391233-368a-4959-c7f7-0131ad910ae3"
      },
      "execution_count": null,
      "outputs": [
        {
          "output_type": "stream",
          "name": "stdout",
          "text": [
            "8\n"
          ]
        }
      ]
    },
    {
      "cell_type": "code",
      "source": [
        "square=lambda x:x**2\n",
        "print(square(4))"
      ],
      "metadata": {
        "colab": {
          "base_uri": "https://localhost:8080/"
        },
        "id": "T2hRJjsOxv4j",
        "outputId": "9084ec5c-de17-49e2-fa3f-7b167a3de735"
      },
      "execution_count": null,
      "outputs": [
        {
          "output_type": "stream",
          "name": "stdout",
          "text": [
            "16\n"
          ]
        }
      ]
    },
    {
      "cell_type": "code",
      "source": [
        "numbers=[1,2,3,4,5,6]\n",
        "even_numbers=list(filter(lambda x:x%2==0,numbers))\n",
        "print(even_numbers)"
      ],
      "metadata": {
        "colab": {
          "base_uri": "https://localhost:8080/"
        },
        "id": "ZTWMgp_lxz2I",
        "outputId": "eae4c39e-f850-43e8-b845-c6c7e902071e"
      },
      "execution_count": null,
      "outputs": [
        {
          "output_type": "stream",
          "name": "stdout",
          "text": [
            "[2, 4, 6]\n"
          ]
        }
      ]
    },
    {
      "cell_type": "code",
      "source": [
        "multiply=lambda x,y,z:x*y*z\n",
        "print(multiply(2,3,4))"
      ],
      "metadata": {
        "colab": {
          "base_uri": "https://localhost:8080/"
        },
        "id": "oOB9x_IFyKcL",
        "outputId": "4df33b16-bd97-4df5-8d4c-a43666d410ea"
      },
      "execution_count": null,
      "outputs": [
        {
          "output_type": "stream",
          "name": "stdout",
          "text": [
            "24\n"
          ]
        }
      ]
    },
    {
      "cell_type": "code",
      "source": [
        "numbers=[1,2,3,4,5]\n",
        "doubled=list(map(lambda x:x*2,numbers))\n",
        "print(doubled)"
      ],
      "metadata": {
        "colab": {
          "base_uri": "https://localhost:8080/"
        },
        "id": "e5OQAbQxySVJ",
        "outputId": "07a70aa4-ddb3-4128-9256-10e096efecde"
      },
      "execution_count": null,
      "outputs": [
        {
          "output_type": "stream",
          "name": "stdout",
          "text": [
            "[2, 4, 6, 8, 10]\n"
          ]
        }
      ]
    },
    {
      "cell_type": "code",
      "source": [
        "data=[(1,'apple'),(3,'banana'),(2,'cherry')]\n",
        "sorted_data=sorted(data,key=lambda x:x[1])\n",
        "print(sorted_data)"
      ],
      "metadata": {
        "colab": {
          "base_uri": "https://localhost:8080/"
        },
        "id": "yZDAEHMyyENC",
        "outputId": "ce56a065-3ff1-4952-950e-63d55987f412"
      },
      "execution_count": null,
      "outputs": [
        {
          "output_type": "stream",
          "name": "stdout",
          "text": [
            "[(1, 'apple'), (3, 'banana'), (2, 'cherry')]\n"
          ]
        }
      ]
    },
    {
      "cell_type": "code",
      "source": [
        "multiply=lambda x,y,z:x*y*z\n",
        "print(multiply(2,3,4))"
      ],
      "metadata": {
        "colab": {
          "base_uri": "https://localhost:8080/"
        },
        "id": "21yC3OUyyc2J",
        "outputId": "62dbcc42-08d7-4552-b5eb-c117538062d7"
      },
      "execution_count": null,
      "outputs": [
        {
          "output_type": "stream",
          "name": "stdout",
          "text": [
            "24\n"
          ]
        }
      ]
    },
    {
      "cell_type": "code",
      "source": [
        "numbers=[1,2,3,4,5]\n",
        "doubled=list(map(lambda x:x*2,numbers))\n",
        "print(doubled)\n"
      ],
      "metadata": {
        "colab": {
          "base_uri": "https://localhost:8080/"
        },
        "id": "3OS8lv9GzFg9",
        "outputId": "fa0ba32e-0697-46be-cd24-7e1f95705d7a"
      },
      "execution_count": null,
      "outputs": [
        {
          "output_type": "stream",
          "name": "stdout",
          "text": [
            "[2, 4, 6, 8, 10]\n"
          ]
        }
      ]
    },
    {
      "cell_type": "code",
      "source": [
        "numbers=[10,15,20,25,30]\n",
        "odds=list(filter(lambda x:x%2!=0,numbers))\n",
        "print(odds)"
      ],
      "metadata": {
        "colab": {
          "base_uri": "https://localhost:8080/"
        },
        "id": "xMbuO0sGzXrI",
        "outputId": "654870de-0748-4a1e-eb5a-22c977b48e42"
      },
      "execution_count": null,
      "outputs": [
        {
          "output_type": "stream",
          "name": "stdout",
          "text": [
            "[15, 25]\n"
          ]
        }
      ]
    },
    {
      "cell_type": "code",
      "source": [
        "students=[\n",
        "    {\"name\":\"alice\",\"score\":85},\n",
        "    {\"name\":\"bob\",\"score\":92},\n",
        "    {\"name\":\"charlie\",\"score\":78}\n",
        "]\n",
        "sorted_student=sorted(students,key=lambda student:student['score'])\n",
        "print(sorted_student)"
      ],
      "metadata": {
        "colab": {
          "base_uri": "https://localhost:8080/"
        },
        "id": "z8BXHb3jzg4-",
        "outputId": "e3e83861-d80f-4851-81c3-c5da51171781"
      },
      "execution_count": null,
      "outputs": [
        {
          "output_type": "stream",
          "name": "stdout",
          "text": [
            "[{'name': 'charlie', 'score': 78}, {'name': 'alice', 'score': 85}, {'name': 'bob', 'score': 92}]\n"
          ]
        }
      ]
    },
    {
      "cell_type": "code",
      "source": [
        "def make_multipler(n):\n",
        "  return lambda x:x*n\n",
        "double=make_multipler(2)\n",
        "triple=make_multipler(3)\n",
        "print(double(5))\n",
        "print(triple(5))"
      ],
      "metadata": {
        "colab": {
          "base_uri": "https://localhost:8080/"
        },
        "id": "SxZrJ9VnzoZB",
        "outputId": "dd8ce332-66eb-45b2-b8dd-61b2eac0ffd6"
      },
      "execution_count": null,
      "outputs": [
        {
          "output_type": "stream",
          "name": "stdout",
          "text": [
            "10\n",
            "15\n"
          ]
        }
      ]
    },
    {
      "cell_type": "code",
      "source": [
        "check_Even=lambda x:\"Even\" if x%2==0 else \"odd\"\n",
        "print(check_Even(4))\n",
        "print(check_Even(7))"
      ],
      "metadata": {
        "colab": {
          "base_uri": "https://localhost:8080/"
        },
        "id": "mdlbZALRzzIY",
        "outputId": "aa0df828-b978-44d2-ed6e-12c3968d75da"
      },
      "execution_count": null,
      "outputs": [
        {
          "output_type": "stream",
          "name": "stdout",
          "text": [
            "Even\n",
            "odd\n"
          ]
        }
      ]
    },
    {
      "cell_type": "code",
      "source": [
        "name=[\"jhon\",\"doe\",\"alice\"]\n",
        "capitalized=list(map(lambda name:name.capitalize(),name))\n",
        "print(capitalized)"
      ],
      "metadata": {
        "colab": {
          "base_uri": "https://localhost:8080/"
        },
        "id": "f1Uh90Aq0I2K",
        "outputId": "9f1b24b8-18f3-4146-bb4c-31c408bb2b9f"
      },
      "execution_count": null,
      "outputs": [
        {
          "output_type": "stream",
          "name": "stdout",
          "text": [
            "['Jhon', 'Doe', 'Alice']\n"
          ]
        }
      ]
    },
    {
      "cell_type": "code",
      "source": [
        "email=[\"alice@example.com\",\"bob@test,com\"]\n",
        "domains=list(map(lambda email:email.split('@')[1],email))\n",
        "print(domains)"
      ],
      "metadata": {
        "colab": {
          "base_uri": "https://localhost:8080/"
        },
        "id": "P64CX8Lr0SZc",
        "outputId": "1ce86547-28b3-468e-bd32-947b05aa25f6"
      },
      "execution_count": null,
      "outputs": [
        {
          "output_type": "stream",
          "name": "stdout",
          "text": [
            "['example.com', 'test,com']\n"
          ]
        }
      ]
    },
    {
      "cell_type": "code",
      "source": [
        "numbers=[2,4,6,8]\n",
        "all_even=all(map(lambda x:x%2==0,numbers))\n",
        "print(all_even)\n",
        "\n",
        "any_gt_5=any(map(lambda x:x>5,numbers))\n",
        "print(any_gt_5)"
      ],
      "metadata": {
        "colab": {
          "base_uri": "https://localhost:8080/"
        },
        "id": "SepIkfBe0WVi",
        "outputId": "5a1f79be-1e04-49fe-f050-bd2e88619297"
      },
      "execution_count": null,
      "outputs": [
        {
          "output_type": "stream",
          "name": "stdout",
          "text": [
            "True\n",
            "True\n"
          ]
        }
      ]
    },
    {
      "cell_type": "code",
      "source": [
        "words=[\"apple\",\"banana\",\"cherry\",\"fig\"]\n",
        "sorted_words=sorted(words,key=lambda word:len(word))\n",
        "print(sorted_words)"
      ],
      "metadata": {
        "colab": {
          "base_uri": "https://localhost:8080/"
        },
        "id": "XOQ8A8V90fYK",
        "outputId": "c13cd258-9a9d-4942-8508-515fa4be1151"
      },
      "execution_count": null,
      "outputs": [
        {
          "output_type": "stream",
          "name": "stdout",
          "text": [
            "['fig', 'apple', 'banana', 'cherry']\n"
          ]
        }
      ]
    },
    {
      "cell_type": "code",
      "source": [
        "sentence=\"lambda functions are powerful\"\n",
        "reversed_words=list(map(lambda word:word[::-1],sentence.split()))\n",
        "print(\"\".join(reversed_words))"
      ],
      "metadata": {
        "colab": {
          "base_uri": "https://localhost:8080/"
        },
        "id": "hwziyZTS0l1u",
        "outputId": "19c5fd20-3a7e-4b42-c81f-60b1c342c4d0"
      },
      "execution_count": null,
      "outputs": [
        {
          "output_type": "stream",
          "name": "stdout",
          "text": [
            "adbmalsnoitcnuferalufrewop\n"
          ]
        }
      ]
    },
    {
      "cell_type": "code",
      "source": [
        "operations={\n",
        "    'add':lambda x,y:x+y,\n",
        "    'subtract':lambda x,y:x-y,\n",
        "    'multiply':lambda x,y:x*y,\n",
        "    'divide':lambda x,y:x/y if y!=-0 else 'error'\n",
        "}\n",
        "print(operations['add'](10,5))\n",
        "print(operations['divide'](10,0))\n"
      ],
      "metadata": {
        "colab": {
          "base_uri": "https://localhost:8080/"
        },
        "id": "dfGyUvXl0wBk",
        "outputId": "dd8884c5-ea5f-4f84-b75d-dcf32db5ef60"
      },
      "execution_count": null,
      "outputs": [
        {
          "output_type": "stream",
          "name": "stdout",
          "text": [
            "15\n",
            "error\n"
          ]
        }
      ]
    },
    {
      "cell_type": "code",
      "source": [
        "number=list(range(1,21))\n",
        "filtered=list(filter(lambda x:x%2==0 and x%3==0,numbers))\n",
        "print(filtered)"
      ],
      "metadata": {
        "colab": {
          "base_uri": "https://localhost:8080/"
        },
        "id": "1emVW6sK7BS1",
        "outputId": "22c9b2d7-ae8c-45a8-860e-ce65a61a663d"
      },
      "execution_count": null,
      "outputs": [
        {
          "output_type": "stream",
          "name": "stdout",
          "text": [
            "[6]\n"
          ]
        }
      ]
    },
    {
      "cell_type": "code",
      "source": [
        "check_even_odd=lambda num:\"even\" if num%2==0 else \"odd\"\n",
        "print(check_even_odd(4))\n",
        "print(check_even_odd(7))"
      ],
      "metadata": {
        "colab": {
          "base_uri": "https://localhost:8080/"
        },
        "id": "j3ZSi7Dj8ne6",
        "outputId": "00912098-c102-4563-daba-c65403c177ea"
      },
      "execution_count": null,
      "outputs": [
        {
          "output_type": "stream",
          "name": "stdout",
          "text": [
            "even\n",
            "odd\n"
          ]
        }
      ]
    },
    {
      "cell_type": "code",
      "source": [
        "s1='GeekForGeeks'\n",
        "s2=lambda func:func.upper()\n",
        "print(s1)"
      ],
      "metadata": {
        "colab": {
          "base_uri": "https://localhost:8080/"
        },
        "id": "umAC5b9E8us1",
        "outputId": "e7cd88b1-d907-47ee-97d7-f5340d198745"
      },
      "execution_count": null,
      "outputs": [
        {
          "output_type": "stream",
          "name": "stdout",
          "text": [
            "GeekForGeeks\n"
          ]
        }
      ]
    },
    {
      "cell_type": "code",
      "source": [
        "n=lambda x:\"postive\" if x>0 else \"negative\" if x<0 else \"zero\"\n",
        "print(n(5))\n",
        "print(n(-3))\n",
        "print(n(0))"
      ],
      "metadata": {
        "colab": {
          "base_uri": "https://localhost:8080/"
        },
        "id": "eOwRkxfL80WI",
        "outputId": "46519de2-b438-45ea-80a1-70ad379a28bf"
      },
      "execution_count": null,
      "outputs": [
        {
          "output_type": "stream",
          "name": "stdout",
          "text": [
            "postive\n",
            "negative\n",
            "zero\n"
          ]
        }
      ]
    },
    {
      "cell_type": "code",
      "source": [
        "li=[lambda arg=x:arg*10 for x in range(1,5)]\n",
        "for i in li:\n",
        "  print(i())"
      ],
      "metadata": {
        "colab": {
          "base_uri": "https://localhost:8080/"
        },
        "id": "YH_J1Bq2868q",
        "outputId": "d07309c7-7fd0-4a6b-8c8b-6afced9055b7"
      },
      "execution_count": null,
      "outputs": [
        {
          "output_type": "stream",
          "name": "stdout",
          "text": [
            "10\n",
            "20\n",
            "30\n",
            "40\n"
          ]
        }
      ]
    },
    {
      "cell_type": "code",
      "source": [
        "check=lambda x:\"even\" if x%2==0 else \"odd\"\n",
        "print(check(4))\n",
        "print(check(7))"
      ],
      "metadata": {
        "colab": {
          "base_uri": "https://localhost:8080/"
        },
        "id": "WCJX4tQz9CPX",
        "outputId": "b3ad4502-f1ed-4449-ff71-f334d4f7ccd6"
      },
      "execution_count": null,
      "outputs": [
        {
          "output_type": "stream",
          "name": "stdout",
          "text": [
            "even\n",
            "odd\n"
          ]
        }
      ]
    },
    {
      "cell_type": "code",
      "source": [
        "calc=lambda x,y:(x+y,x*y)\n",
        "res=calc(3,4)\n",
        "print(res)"
      ],
      "metadata": {
        "colab": {
          "base_uri": "https://localhost:8080/"
        },
        "id": "l7IwSoEC9H3v",
        "outputId": "071293b4-e8b6-4b20-96c0-fe42e71118ca"
      },
      "execution_count": null,
      "outputs": [
        {
          "output_type": "stream",
          "name": "stdout",
          "text": [
            "(7, 12)\n"
          ]
        }
      ]
    },
    {
      "cell_type": "code",
      "source": [
        "n=[1,2,3,4,5,6 ]\n",
        "even=filter(lambda x:x%2==0,n)\n",
        "print(list(even))"
      ],
      "metadata": {
        "colab": {
          "base_uri": "https://localhost:8080/"
        },
        "id": "Fcj40B2d9Qp1",
        "outputId": "59f59a15-191e-41af-d4f6-a179d69cf7f5"
      },
      "execution_count": null,
      "outputs": [
        {
          "output_type": "stream",
          "name": "stdout",
          "text": [
            "[2, 4, 6]\n"
          ]
        }
      ]
    },
    {
      "cell_type": "code",
      "source": [
        "a=[1,2,3,4]\n",
        "b=map(lambda x:x*2,a)\n",
        "print(list(b))"
      ],
      "metadata": {
        "colab": {
          "base_uri": "https://localhost:8080/"
        },
        "id": "lBQ-PrZE9YpZ",
        "outputId": "15a5a842-8497-4d72-d074-3a7b4f375f1d"
      },
      "execution_count": null,
      "outputs": [
        {
          "output_type": "stream",
          "name": "stdout",
          "text": [
            "[2, 4, 6, 8]\n"
          ]
        }
      ]
    },
    {
      "cell_type": "code",
      "source": [
        "a=[1,2,3,4]\n",
        "b=(lambda x,y:x*y,a)\n",
        "print(b)"
      ],
      "metadata": {
        "colab": {
          "base_uri": "https://localhost:8080/"
        },
        "id": "2wK5f6jk9ft3",
        "outputId": "8dad873d-50d1-4d88-bf90-809f4adf5574"
      },
      "execution_count": null,
      "outputs": [
        {
          "output_type": "stream",
          "name": "stdout",
          "text": [
            "(<function <lambda> at 0x7a6fd71411c0>, [1, 2, 3, 4])\n"
          ]
        }
      ]
    },
    {
      "cell_type": "code",
      "source": [
        "import pandas as pd\n",
        "data=[10,20,30,40,50]\n",
        "series=pd.Series(data)\n",
        "series.index=['a','b','c','d','e']\n",
        "print(series)"
      ],
      "metadata": {
        "colab": {
          "base_uri": "https://localhost:8080/"
        },
        "id": "D4iD2y19VK61",
        "outputId": "a98838c2-85a9-4f98-e78b-ac70069560f7"
      },
      "execution_count": null,
      "outputs": [
        {
          "output_type": "stream",
          "name": "stdout",
          "text": [
            "a    10\n",
            "b    20\n",
            "c    30\n",
            "d    40\n",
            "e    50\n",
            "dtype: int64\n"
          ]
        }
      ]
    },
    {
      "cell_type": "code",
      "source": [
        "value=series['c']\n",
        "print(value)"
      ],
      "metadata": {
        "colab": {
          "base_uri": "https://localhost:8080/"
        },
        "id": "b7i1FXLlV4tu",
        "outputId": "e69efe6b-0b48-43df-915e-c0ee253e5b32"
      },
      "execution_count": null,
      "outputs": [
        {
          "output_type": "stream",
          "name": "stdout",
          "text": [
            "30\n"
          ]
        }
      ]
    },
    {
      "cell_type": "code",
      "source": [
        "max_value=series.max()\n",
        "print(max_value)"
      ],
      "metadata": {
        "colab": {
          "base_uri": "https://localhost:8080/"
        },
        "id": "6u-z8h6iWFTb",
        "outputId": "79e5ea0f-a37f-4b5c-bca7-7b1bdaaf5bdf"
      },
      "execution_count": null,
      "outputs": [
        {
          "output_type": "stream",
          "name": "stdout",
          "text": [
            "50\n"
          ]
        }
      ]
    },
    {
      "cell_type": "code",
      "source": [
        "new_series=series+5\n",
        "print(new_series)"
      ],
      "metadata": {
        "colab": {
          "base_uri": "https://localhost:8080/"
        },
        "id": "DPrrh6InWbT7",
        "outputId": "49acf3e1-b248-445a-fc4d-4f027a1cd7fb"
      },
      "execution_count": null,
      "outputs": [
        {
          "output_type": "stream",
          "name": "stdout",
          "text": [
            "a    15\n",
            "b    25\n",
            "c    35\n",
            "d    45\n",
            "e    55\n",
            "dtype: int64\n"
          ]
        }
      ]
    },
    {
      "cell_type": "code",
      "source": [
        "import pandas as pd\n",
        "data={'apple':50,'banana':30, 'cherry':20}\n",
        "fruit_series=pd.Series(data)\n",
        "print(fruit_series)"
      ],
      "metadata": {
        "colab": {
          "base_uri": "https://localhost:8080/"
        },
        "id": "QzFSjgTkWuor",
        "outputId": "b6ad2da5-7744-4b9a-d108-74ac6c2661c5"
      },
      "execution_count": null,
      "outputs": [
        {
          "output_type": "stream",
          "name": "stdout",
          "text": [
            "apple     50\n",
            "banana    30\n",
            "cherry    20\n",
            "dtype: int64\n"
          ]
        }
      ]
    },
    {
      "cell_type": "code",
      "source": [
        "filtered_series=fruit_series[fruit_series>25]\n",
        "print(filtered_series)"
      ],
      "metadata": {
        "colab": {
          "base_uri": "https://localhost:8080/"
        },
        "id": "Ksx7dayUXQkC",
        "outputId": "5c05ba26-3286-4258-e2c7-8949ff96854a"
      },
      "execution_count": null,
      "outputs": [
        {
          "output_type": "stream",
          "name": "stdout",
          "text": [
            "apple     50\n",
            "banana    30\n",
            "dtype: int64\n"
          ]
        }
      ]
    },
    {
      "cell_type": "code",
      "source": [
        "updated_series=fruit_series*1.2\n",
        "print(updated_series)"
      ],
      "metadata": {
        "colab": {
          "base_uri": "https://localhost:8080/"
        },
        "id": "FDC23iJtYDZZ",
        "outputId": "f7eddab0-91c5-4328-957e-c59d1e326bbe"
      },
      "execution_count": null,
      "outputs": [
        {
          "output_type": "stream",
          "name": "stdout",
          "text": [
            "apple     60.0\n",
            "banana    36.0\n",
            "cherry    24.0\n",
            "dtype: float64\n"
          ]
        }
      ]
    },
    {
      "cell_type": "code",
      "source": [
        "import pandas as pd\n",
        "fruit_series=pd.Series({'apple':50,'banana':30,'cherry':20})\n",
        "new_series=pd.Series({'banana':10,'cherry':5,'date':15})\n",
        "result=fruit_series+new_series\n",
        "print(result)"
      ],
      "metadata": {
        "colab": {
          "base_uri": "https://localhost:8080/"
        },
        "id": "3HbQcOhmYU1h",
        "outputId": "efe394d7-6fba-431a-ff12-6f734e8085d2"
      },
      "execution_count": null,
      "outputs": [
        {
          "output_type": "stream",
          "name": "stdout",
          "text": [
            "apple      NaN\n",
            "banana    40.0\n",
            "cherry    25.0\n",
            "date       NaN\n",
            "dtype: float64\n"
          ]
        }
      ]
    },
    {
      "cell_type": "code",
      "source": [
        "import pandas as pd\n",
        "numbers=pd.Series([10,20,30,40,50])\n",
        "mean=numbers.mean()\n",
        "std_dev=numbers.std()\n",
        "print(\"Mean:\",mean)\n",
        "print(\"Standard Deviation:\",std_dev)"
      ],
      "metadata": {
        "colab": {
          "base_uri": "https://localhost:8080/"
        },
        "id": "21N1bybpZ8lo",
        "outputId": "60b1daab-b707-4117-d504-7fcb513145e5"
      },
      "execution_count": null,
      "outputs": [
        {
          "output_type": "stream",
          "name": "stdout",
          "text": [
            "Mean: 30.0\n",
            "Standard Deviation: 15.811388300841896\n"
          ]
        }
      ]
    },
    {
      "cell_type": "code",
      "source": [
        "import pandas as pd\n",
        "subject1=pd.Series({'jyo':85,'laxmi':78,\"sanju\":92})\n",
        "subject2=pd.Series({'jyo':88,'laxmi':74,\"sanju\":90})\n",
        "total_marks=subject1+subject2\n",
        "print(total_marks)"
      ],
      "metadata": {
        "colab": {
          "base_uri": "https://localhost:8080/"
        },
        "id": "uLJEDLSQalXY",
        "outputId": "df31d7b4-0abf-4c81-f73f-661cc5f23041"
      },
      "execution_count": null,
      "outputs": [
        {
          "output_type": "stream",
          "name": "stdout",
          "text": [
            "jyo      173\n",
            "laxmi    152\n",
            "sanju    182\n",
            "dtype: int64\n"
          ]
        }
      ]
    },
    {
      "cell_type": "code",
      "source": [
        "import pandas as pd\n",
        "timestamps=pd.Series(pd.to_datetime(['2025-01-15','2025-07-14','2025-12-01']))\n",
        "months=timestamps.dt.month\n",
        "print(months)"
      ],
      "metadata": {
        "colab": {
          "base_uri": "https://localhost:8080/"
        },
        "id": "8nApg4rVb57d",
        "outputId": "6c6cc3dd-dac7-47f1-a4e7-6245210a19f4"
      },
      "execution_count": null,
      "outputs": [
        {
          "output_type": "stream",
          "name": "stdout",
          "text": [
            "0     1\n",
            "1     7\n",
            "2    12\n",
            "dtype: int32\n"
          ]
        }
      ]
    },
    {
      "cell_type": "code",
      "source": [
        "import pandas as pd\n",
        "marks=pd.Series({'jyo':85,'laxmi':78,'sanju':92})\n",
        "topper=marks.idxmax()\n",
        "print(\"student with highest marks:\",topper)"
      ],
      "metadata": {
        "colab": {
          "base_uri": "https://localhost:8080/"
        },
        "id": "lI84MF0vcqy8",
        "outputId": "cf18f204-31a9-4615-ba97-858a08df1e63"
      },
      "execution_count": null,
      "outputs": [
        {
          "output_type": "stream",
          "name": "stdout",
          "text": [
            "student with highest marks: sanju\n"
          ]
        }
      ]
    },
    {
      "cell_type": "code",
      "source": [
        "import pandas as pd\n",
        "data={\n",
        "    'name':['Rupa','sita','geeta'],\n",
        "    'age':[20,30,35],\n",
        "    'city':['bagalkot','solapur','gulbarga']\n",
        "}\n",
        "df=pd.DataFrame(data)\n",
        "print(df)"
      ],
      "metadata": {
        "colab": {
          "base_uri": "https://localhost:8080/"
        },
        "id": "X_QUkZl-j-tK",
        "outputId": "f4c22d0a-45b1-4fbf-9e89-e4a22285a9c1"
      },
      "execution_count": null,
      "outputs": [
        {
          "output_type": "stream",
          "name": "stdout",
          "text": [
            "    name  age      city\n",
            "0   Rupa   20  bagalkot\n",
            "1   sita   30   solapur\n",
            "2  geeta   35  gulbarga\n"
          ]
        }
      ]
    },
    {
      "cell_type": "code",
      "source": [
        "import pandas as pd\n",
        "data={\n",
        "    'name':['Rupa','sita','geeta'],\n",
        "    'age':[20,30,35],\n",
        "    'city':['bagalkot','solapur','gulbarga']\n",
        "}\n",
        "df=pd.DataFrame(data)\n",
        "df_sorted=df.sort_values(by='age',ascending =False)\n",
        "print(df_sorted)"
      ],
      "metadata": {
        "colab": {
          "base_uri": "https://localhost:8080/"
        },
        "id": "2J01lyE0kFXJ",
        "outputId": "fd77afd4-cb07-491d-ce72-cb56ae1647cb"
      },
      "execution_count": null,
      "outputs": [
        {
          "output_type": "stream",
          "name": "stdout",
          "text": [
            "    name  age      city\n",
            "2  geeta   35  gulbarga\n",
            "1   sita   30   solapur\n",
            "0   Rupa   20  bagalkot\n"
          ]
        }
      ]
    },
    {
      "cell_type": "code",
      "source": [
        "import pandas as pd\n",
        "data={\n",
        "    'name':['Rupa','sita','geeta'],\n",
        "    'age':[20,30,35],\n",
        "    'city':['bagalkot','solapur','gulbarga']\n",
        "}\n",
        "df=pd.DataFrame(data)\n",
        "df['salary']=[50000,60000,70000]\n",
        "print(df)"
      ],
      "metadata": {
        "colab": {
          "base_uri": "https://localhost:8080/"
        },
        "id": "CzM6_OLzkJeK",
        "outputId": "6468393a-a061-44d8-f9f6-6930de559f4a"
      },
      "execution_count": null,
      "outputs": [
        {
          "output_type": "stream",
          "name": "stdout",
          "text": [
            "    name  age      city  salary\n",
            "0   Rupa   20  bagalkot   50000\n",
            "1   sita   30   solapur   60000\n",
            "2  geeta   35  gulbarga   70000\n"
          ]
        }
      ]
    },
    {
      "cell_type": "code",
      "source": [
        "import pandas as pd\n",
        "data={\n",
        "    'name':['Rupa','sita','geeta'],\n",
        "    'age':[20,30,35],\n",
        "    'city':['bagalkot','solapur','gulbarga'],\n",
        "    'salary':[50000,60000,70000]\n",
        "}\n",
        "df=pd.DataFrame(data)\n",
        "df_filtered=df[df['age']>30]\n",
        "print(df_filtered)\n",
        "print(data)"
      ],
      "metadata": {
        "colab": {
          "base_uri": "https://localhost:8080/"
        },
        "id": "NcQgmwkykPFp",
        "outputId": "ca95cf7e-03fb-42c2-f3d5-184bb77e820b"
      },
      "execution_count": null,
      "outputs": [
        {
          "output_type": "stream",
          "name": "stdout",
          "text": [
            "    name  age      city  salary\n",
            "2  geeta   35  gulbarga   70000\n",
            "{'name': ['Rupa', 'sita', 'geeta'], 'age': [20, 30, 35], 'city': ['bagalkot', 'solapur', 'gulbarga'], 'salary': [50000, 60000, 70000]}\n"
          ]
        }
      ]
    },
    {
      "cell_type": "code",
      "source": [
        "import pandas as pd\n",
        "data={\n",
        "    'name':['Rupa','sita','geeta'],\n",
        "    'age':[20,30,35],\n",
        "    'city':['bagalkot','solapur','gulbarga'],\n",
        "    'salary':[50000,60000,70000]\n",
        "}\n",
        "df=pd.DataFrame(data)\n",
        "df.loc[df['name']=='sita','city']='bagalkot'\n",
        "print(df)"
      ],
      "metadata": {
        "colab": {
          "base_uri": "https://localhost:8080/"
        },
        "id": "jvIR_4O4kZlS",
        "outputId": "9827c283-8ac4-4c16-80ad-3ddecd9a111f"
      },
      "execution_count": null,
      "outputs": [
        {
          "output_type": "stream",
          "name": "stdout",
          "text": [
            "    name  age      city  salary\n",
            "0   Rupa   20  bagalkot   50000\n",
            "1   sita   30  bagalkot   60000\n",
            "2  geeta   35  gulbarga   70000\n"
          ]
        }
      ]
    },
    {
      "cell_type": "code",
      "source": [
        "import pandas as pd\n",
        "data={\n",
        "    'name':['Rupa','sita','geeta'],\n",
        "    'age':[20,30,35],\n",
        "    'salary':[50000,60000,70000]\n",
        "}\n",
        "df=pd.DataFrame(data)\n",
        "average_age=df['age'].mean()\n",
        "print(\"average age:\",average_age)"
      ],
      "metadata": {
        "colab": {
          "base_uri": "https://localhost:8080/"
        },
        "id": "Kg5WeYQ2liUo",
        "outputId": "0c7bf72f-00da-4850-bc52-d11e68020d0c"
      },
      "execution_count": null,
      "outputs": [
        {
          "output_type": "stream",
          "name": "stdout",
          "text": [
            "average age: 28.333333333333332\n"
          ]
        }
      ]
    },
    {
      "cell_type": "code",
      "source": [
        "import pandas as pd\n",
        "data={\n",
        "    'name':['Rupa','sita','geeta'],\n",
        "    'age':[20,30,35],\n",
        "    'city':['bagalkot','solapur','gulbarga'],\n",
        "    'salary':[50000,60000,70000]\n",
        "}\n",
        "df=pd.DataFrame(data)\n",
        "is_bagalkot_present=(df['city']=='bagalkot').any()\n",
        "print(\"is anyone from bagalkot?\",is_bagalkot_present)"
      ],
      "metadata": {
        "colab": {
          "base_uri": "https://localhost:8080/"
        },
        "id": "NhtTd2NWl9Iw",
        "outputId": "54c47340-7674-4f26-a66f-ae9e281ab3bb"
      },
      "execution_count": null,
      "outputs": [
        {
          "output_type": "stream",
          "name": "stdout",
          "text": [
            "is anyone from bagalkot? True\n"
          ]
        }
      ]
    },
    {
      "cell_type": "code",
      "source": [
        "import pandas as pd\n",
        "data={\n",
        "    'name':['Rupa','sita','geeta'],\n",
        "    'age':[20,30,35],\n",
        "    'salary':[50000,60000,70000]\n",
        "}\n",
        "df=pd.DataFrame(data)\n",
        "sita_info=df[df['name']=='sita']\n",
        "print(sita_info)"
      ],
      "metadata": {
        "colab": {
          "base_uri": "https://localhost:8080/"
        },
        "id": "SFh9dHGEmDyS",
        "outputId": "6850c4b8-efc4-46e2-ac18-1f28ec05c187"
      },
      "execution_count": null,
      "outputs": [
        {
          "output_type": "stream",
          "name": "stdout",
          "text": [
            "   name  age  salary\n",
            "1  sita   30   60000\n"
          ]
        }
      ]
    },
    {
      "cell_type": "code",
      "source": [
        "import pandas as pd\n",
        "data={\n",
        "    'name':['Rupa','sita','geeta'],\n",
        "    'age':[20,30,35],\n",
        "    'city':['bagalkot','solapur','gulbarga'],\n",
        "    'salary':[50000,60000,70000]\n",
        "}\n",
        "df=pd.DataFrame(data)\n",
        "city_counts=df['city'].value_counts()\n",
        "print(city_counts)"
      ],
      "metadata": {
        "colab": {
          "base_uri": "https://localhost:8080/"
        },
        "id": "ulXP-CVxmpbA",
        "outputId": "583b9335-627b-4143-8aee-f3eccd6bb13a"
      },
      "execution_count": null,
      "outputs": [
        {
          "output_type": "stream",
          "name": "stdout",
          "text": [
            "city\n",
            "bagalkot    1\n",
            "solapur     1\n",
            "gulbarga    1\n",
            "Name: count, dtype: int64\n"
          ]
        }
      ]
    },
    {
      "cell_type": "code",
      "source": [
        "import pandas as pd\n",
        "data={\n",
        "    'name':['Rupa','sita','geeta'],\n",
        "    'age':[20,30,35],\n",
        "    'salary':[50000,60000,70000]\n",
        "}\n",
        "df=pd.DataFrame(data)\n",
        "max_Salary__index=df['salary'].idxmax()\n",
        "person_max_salary=df.loc[max_Salary__index]\n",
        "print(person_max_salary)"
      ],
      "metadata": {
        "colab": {
          "base_uri": "https://localhost:8080/"
        },
        "id": "nYBEh8nKnOz_",
        "outputId": "ee6fe7be-7153-4925-e6e5-c21f35f40012"
      },
      "execution_count": null,
      "outputs": [
        {
          "output_type": "stream",
          "name": "stdout",
          "text": [
            "name      geeta\n",
            "age          35\n",
            "salary    70000\n",
            "Name: 2, dtype: object\n"
          ]
        }
      ]
    },
    {
      "cell_type": "code",
      "source": [
        "import pandas as pd\n",
        "data={\n",
        "    'department':['cs','cs','IT','IT'],\n",
        "    'marks':[85,90,78,82]\n",
        "}\n",
        "df=pd.DataFrame(data)\n",
        "print(df)\n",
        "print(df.groupby('department').mean())"
      ],
      "metadata": {
        "colab": {
          "base_uri": "https://localhost:8080/"
        },
        "id": "9gwjCifBlGFb",
        "outputId": "b3f1aabd-dfc9-4497-eaee-77f0f188e960"
      },
      "execution_count": null,
      "outputs": [
        {
          "output_type": "stream",
          "name": "stdout",
          "text": [
            "  department  marks\n",
            "0         cs     85\n",
            "1         cs     90\n",
            "2         IT     78\n",
            "3         IT     82\n",
            "            marks\n",
            "department       \n",
            "IT           80.0\n",
            "cs           87.5\n"
          ]
        }
      ]
    },
    {
      "cell_type": "code",
      "source": [
        "import pandas as pd\n",
        "data={\n",
        "    'math':[90,80,85],\n",
        "    'science':[95,75,88]\n",
        "}\n",
        "df=pd.DataFrame(data)\n",
        "df['average']=(df['math']+df['science'])/2\n",
        "print(df)\n",
        "df.to_csv(\"averages.csv\",index=False)"
      ],
      "metadata": {
        "colab": {
          "base_uri": "https://localhost:8080/"
        },
        "id": "iTGdvgY4lPTD",
        "outputId": "5211dfdb-1350-45d8-984c-5411543f5386"
      },
      "execution_count": null,
      "outputs": [
        {
          "output_type": "stream",
          "name": "stdout",
          "text": [
            "   math  science  average\n",
            "0    90       95     92.5\n",
            "1    80       75     77.5\n",
            "2    85       88     86.5\n"
          ]
        }
      ]
    },
    {
      "cell_type": "code",
      "source": [],
      "metadata": {
        "id": "m3UGJEAkEEMw"
      },
      "execution_count": null,
      "outputs": []
    },
    {
      "cell_type": "code",
      "source": [
        "import matplotlib.pyplot as plt\n",
        "x=[1,2,3,4,5]\n",
        "y=[10,12,15,18,20]\n",
        "plt.plot(x,y)\n",
        "plt.title(\"simple line graph\")\n",
        "plt.xlabel(\"x values\")\n",
        "plt.ylabel(\"y values\")\n",
        "plt.show()\n"
      ],
      "metadata": {
        "colab": {
          "base_uri": "https://localhost:8080/",
          "height": 472
        },
        "id": "qBm5css4lVMj",
        "outputId": "1fc293d8-a9f9-4c91-a8dd-3c91f3e87858"
      },
      "execution_count": null,
      "outputs": [
        {
          "output_type": "display_data",
          "data": {
            "text/plain": [
              "<Figure size 640x480 with 1 Axes>"
            ],
            "image/png": "[encoded data removed]"
          },
          "metadata": {}
        }
      ]
    },
    {
      "cell_type": "code",
      "source": [
        "import matplotlib.pyplot as plt\n",
        "\n",
        "students=['Asha','Ravi','neha']\n",
        "Scores=[85,90,78]\n",
        "\n",
        "plt.bar(students,Scores,color='skyblue')\n",
        "plt.title(\"student Scores\")\n",
        "plt.xlabel(\"Students\")\n",
        "plt.ylabel(\"marks\")\n",
        "plt.show()"
      ],
      "metadata": {
        "colab": {
          "base_uri": "https://localhost:8080/",
          "height": 472
        },
        "id": "qAqSU-XslcDz",
        "outputId": "ed2c78d9-c257-4748-8b95-9dd07db48527"
      },
      "execution_count": null,
      "outputs": [
        {
          "output_type": "display_data",
          "data": {
            "text/plain": [
              "<Figure size 640x480 with 1 Axes>"
            ],
            "image/png": "[encoded data removed]"
          },
          "metadata": {}
        }
      ]
    },
    {
      "cell_type": "code",
      "source": [
        "import matplotlib.pyplot as plt\n",
        "\n",
        "lables=['python','java','c++','C']\n",
        "sizes=[40,25,20,15]\n",
        "\n",
        "plt.pie(sizes,labels=lables,autopct='%1.1f%%',startangle=140)\n",
        "plt.title(\"programming languages usage\")\n",
        "plt.axis('equal')\n",
        "plt.show()"
      ],
      "metadata": {
        "colab": {
          "base_uri": "https://localhost:8080/",
          "height": 428
        },
        "id": "_ilPO9vFliWi",
        "outputId": "60a9a6a0-b719-4b1b-b8d0-a8f2c6ee1a2c"
      },
      "execution_count": null,
      "outputs": [
        {
          "output_type": "display_data",
          "data": {
            "text/plain": [
              "<Figure size 640x480 with 1 Axes>"
            ],
            "image/png": "[encoded data removed]"
          },
          "metadata": {}
        }
      ]
    },
    {
      "cell_type": "code",
      "source": [
        "import matplotlib.pyplot as plt\n",
        "\n",
        "students=['asha','ravi','neha']\n",
        "scores=[85,90,78]\n",
        "\n",
        "plt.bar(students,scores,color='Red')\n",
        "plt.title(\"student scores\")\n",
        "plt.xlabel(\"students\")\n",
        "plt.ylabel(\"marks\")\n",
        "plt.show()"
      ],
      "metadata": {
        "colab": {
          "base_uri": "https://localhost:8080/",
          "height": 472
        },
        "id": "1-8zuNK3ljZK",
        "outputId": "01e31bd0-c09d-41f2-d3fb-4e299726d73d"
      },
      "execution_count": null,
      "outputs": [
        {
          "output_type": "display_data",
          "data": {
            "text/plain": [
              "<Figure size 640x480 with 1 Axes>"
            ],
            "image/png": "[encoded data removed]"
          },
          "metadata": {}
        }
      ]
    },
    {
      "cell_type": "code",
      "source": [
        "import matplotlib.pyplot as plt\n",
        "\n",
        "lables=['python','java','c++','C']\n",
        "sizes=[40,25,20,15]\n",
        "\n",
        "plt.pie(sizes,labels=lables,autopct='%1.1f%%',startangle=140)\n",
        "plt.title(\"programming languages usage\")\n",
        "plt.axis('equal')\n",
        "plt.show()"
      ],
      "metadata": {
        "colab": {
          "base_uri": "https://localhost:8080/",
          "height": 428
        },
        "id": "s-dboyiAlm6b",
        "outputId": "b50b51ed-6bc1-4a30-a02b-48b48a4e2e76"
      },
      "execution_count": null,
      "outputs": [
        {
          "output_type": "display_data",
          "data": {
            "text/plain": [
              "<Figure size 640x480 with 1 Axes>"
            ],
            "image/png": "[encoded data removed]"
          },
          "metadata": {}
        }
      ]
    },
    {
      "cell_type": "code",
      "source": [
        "import matplotlib.pyplot as plt\n",
        "\n",
        "ages=[18,22,21,25,30,30,27,25,22,19]\n",
        "\n",
        "plt.hist(ages,bins=5,color='orange')\n",
        "plt.title(\"age distribution\")\n",
        "plt.xlabel(\"age\")\n",
        "plt.ylabel(\"frequency\")\n",
        "plt.show()\n",
        "\n"
      ],
      "metadata": {
        "colab": {
          "base_uri": "https://localhost:8080/",
          "height": 472
        },
        "id": "Pef1ldYelsOK",
        "outputId": "a1f61186-ec2e-4cf0-9416-c4f0e0455c3d"
      },
      "execution_count": null,
      "outputs": [
        {
          "output_type": "display_data",
          "data": {
            "text/plain": [
              "<Figure size 640x480 with 1 Axes>"
            ],
            "image/png": "[encoded data removed]"
          },
          "metadata": {}
        }
      ]
    },
    {
      "cell_type": "code",
      "source": [
        "import matplotlib.pyplot as plt\n",
        "\n",
        "x=[1,2,3,4,5]\n",
        "y=[5,7,6,8,10]\n",
        "\n",
        "plt.scatter(x,y,color='red')\n",
        "plt.title(\"scatter plot\")\n",
        "plt.xlabel(\"x values\")\n",
        "plt.ylabel(\"y values\")\n",
        "plt.show()"
      ],
      "metadata": {
        "colab": {
          "base_uri": "https://localhost:8080/",
          "height": 472
        },
        "id": "UJtsJddelvrC",
        "outputId": "164b9907-6643-4c2b-f688-fba16305ef97"
      },
      "execution_count": null,
      "outputs": [
        {
          "output_type": "display_data",
          "data": {
            "text/plain": [
              "<Figure size 640x480 with 1 Axes>"
            ],
            "image/png": "[encoded data removed]"
          },
          "metadata": {}
        }
      ]
    },
    {
      "cell_type": "code",
      "source": [
        "import pandas as pd\n",
        "import numpy as np\n",
        "exam_data={'name':['manish','dhiraj','man','dhir'],\n",
        "'score':[12.5,91,2.5,9]}\n",
        "df=pd.DataFrame(exam_data)\n",
        "print(\"first three rows of the data frame:\")\n",
        "print(df.iloc[:3])"
      ],
      "metadata": {
        "colab": {
          "base_uri": "https://localhost:8080/"
        },
        "id": "itb4tCZQrA4n",
        "outputId": "252f6e39-f0c7-4fba-fade-05cba5a23b19"
      },
      "execution_count": null,
      "outputs": [
        {
          "output_type": "stream",
          "name": "stdout",
          "text": [
            "first three rows of the data frame:\n",
            "     name  score\n",
            "0  manish   12.5\n",
            "1  dhiraj   91.0\n",
            "2     man    2.5\n"
          ]
        }
      ]
    },
    {
      "cell_type": "code",
      "source": [
        "import pandas as pd\n",
        "import numpy as np\n",
        "exam_data={'name':['manish','dhiraj','man','dhir'],\n",
        "           'score':[12.5,91,2.5,9]}\n",
        "df=pd.DataFrame(exam_data)\n",
        "total_rows=len(df.axes[0])\n",
        "total_cols=len(df.axes[1])\n",
        "print(\"number of rows:\"+str(total_rows))\n",
        "print(\"number of columns:\"+str(total_cols))"
      ],
      "metadata": {
        "colab": {
          "base_uri": "https://localhost:8080/"
        },
        "id": "8g2hgMcyrEDX",
        "outputId": "44c9baae-42bf-40af-834f-f853447695fc"
      },
      "execution_count": null,
      "outputs": [
        {
          "output_type": "stream",
          "name": "stdout",
          "text": [
            "number of rows:4\n",
            "number of columns:2\n"
          ]
        }
      ]
    },
    {
      "cell_type": "code",
      "source": [
        "import pandas as pd\n",
        "import numpy as np\n",
        "exam_data={'name':['manish','dhiraj','man','dhir'],\n",
        "           'score':[12.5,91,20.5,19]}\n",
        "print(\"rows where score between 15 and 20(inclusive):\")\n",
        "print(df[df['score'].between(15,20)])"
      ],
      "metadata": {
        "colab": {
          "base_uri": "https://localhost:8080/"
        },
        "id": "aHNk58QPrGmv",
        "outputId": "1ba5f845-5c6c-47cc-ec16-347c4e1bfed0"
      },
      "execution_count": null,
      "outputs": [
        {
          "output_type": "stream",
          "name": "stdout",
          "text": [
            "rows where score between 15 and 20(inclusive):\n",
            "Empty DataFrame\n",
            "Columns: [name, score]\n",
            "Index: []\n"
          ]
        }
      ]
    },
    {
      "cell_type": "code",
      "source": [
        "import pandas as pd\n",
        "import numpy as np\n",
        "exam_data={'name':['manish','dhiraj','man','dhir'],\n",
        "           'score':[12.5,91,20.5,19]}\n",
        "df=pd.DataFrame(exam_data)\n",
        "result_sort=df.sort_values(by=['name','score'],ascending=[True,True])\n",
        "print(\"sort the data frame first by 'name' in descending order,then by 'score' in ascending order:\")\n",
        "print(result_sort)"
      ],
      "metadata": {
        "colab": {
          "base_uri": "https://localhost:8080/"
        },
        "id": "TJhY4c2erJB3",
        "outputId": "0170ace3-d72f-461a-a72f-a6b808b3d617"
      },
      "execution_count": null,
      "outputs": [
        {
          "output_type": "stream",
          "name": "stdout",
          "text": [
            "sort the data frame first by 'name' in descending order,then by 'score' in ascending order:\n",
            "     name  score\n",
            "3    dhir   19.0\n",
            "1  dhiraj   91.0\n",
            "2     man   20.5\n",
            "0  manish   12.5\n"
          ]
        }
      ]
    },
    {
      "cell_type": "code",
      "source": [
        "import pandas as pd\n",
        "import numpy as np\n",
        "exam_data={'name':['manish','dhiraj','man','dhir'],\n",
        "           'score':[12.5,91,20.5,19]}\n",
        "df=pd.DataFrame(exam_data)\n",
        "df=df.rename(columns={'name':'NAME','score':'SCORE'})\n",
        "print(\"new DataFrame after renaming colimns:\")\n",
        "print(df)"
      ],
      "metadata": {
        "colab": {
          "base_uri": "https://localhost:8080/"
        },
        "id": "PiWT-aiWrNDu",
        "outputId": "86ee2d7f-6c9a-470b-a1a0-af95570f2c1e"
      },
      "execution_count": null,
      "outputs": [
        {
          "output_type": "stream",
          "name": "stdout",
          "text": [
            "new DataFrame after renaming colimns:\n",
            "     NAME  SCORE\n",
            "0  manish   12.5\n",
            "1  dhiraj   91.0\n",
            "2     man   20.5\n",
            "3    dhir   19.0\n"
          ]
        }
      ]
    },
    {
      "cell_type": "code",
      "source": [
        "import pandas as pd\n",
        "import numpy as np\n",
        "s1=pd.Series(['100','200','400'])\n",
        "s2=pd.Series(['10','20','40'])\n",
        "print(\"Data Series:\")\n",
        "print(s1)\n",
        "print(s2)\n",
        "df=pd.concat([s1,s2],axis=1)\n",
        "print(\"new Dataframe combing two series:\")\n",
        "print(df)\n"
      ],
      "metadata": {
        "colab": {
          "base_uri": "https://localhost:8080/"
        },
        "id": "F7dq6yBOrPkm",
        "outputId": "85736938-ba90-4238-df2a-99227bc26a39"
      },
      "execution_count": null,
      "outputs": [
        {
          "output_type": "stream",
          "name": "stdout",
          "text": [
            "Data Series:\n",
            "0    100\n",
            "1    200\n",
            "2    400\n",
            "dtype: object\n",
            "0    10\n",
            "1    20\n",
            "2    40\n",
            "dtype: object\n",
            "new Dataframe combing two series:\n",
            "     0   1\n",
            "0  100  10\n",
            "1  200  20\n",
            "2  400  40\n"
          ]
        }
      ]
    },
    {
      "cell_type": "code",
      "source": [
        "import pandas as pd\n",
        "import numpy as np\n",
        "s1=pd.Series(['100','200','400'])\n",
        "s2=pd.Series(['10','20','40'])\n",
        "df=pd.concat([s1,s2],axis=1)\n",
        "new_col=[1,2,3]\n",
        "idx=0\n",
        "df.insert(loc=idx,column='1',value=new_col)\n",
        "print(\"\\n new DataFrame\")\n",
        "print(df)\n"
      ],
      "metadata": {
        "colab": {
          "base_uri": "https://localhost:8080/"
        },
        "id": "CK-mr9lPrUGW",
        "outputId": "b557b809-7f93-44ad-907e-9390f1c8b8cd"
      },
      "execution_count": null,
      "outputs": [
        {
          "output_type": "stream",
          "name": "stdout",
          "text": [
            "\n",
            " new DataFrame\n",
            "   1    0   1\n",
            "0  1  100  10\n",
            "1  2  200  20\n",
            "2  3  400  40\n"
          ]
        }
      ]
    },
    {
      "cell_type": "code",
      "source": [
        "import numpy as np\n",
        "arr=np.array([1,2,3,4])\n",
        "print(arr.sum())"
      ],
      "metadata": {
        "id": "oX2wNZX3uKu1",
        "colab": {
          "base_uri": "https://localhost:8080/"
        },
        "outputId": "4c7dac9e-c4af-4f56-e4a3-c33db3d04aef"
      },
      "execution_count": null,
      "outputs": [
        {
          "output_type": "stream",
          "name": "stdout",
          "text": [
            "10\n"
          ]
        }
      ]
    },
    {
      "cell_type": "code",
      "source": [
        "print(arr.min())"
      ],
      "metadata": {
        "colab": {
          "base_uri": "https://localhost:8080/"
        },
        "id": "wnLo1LZ1jgqM",
        "outputId": "2c19500b-9e0b-4549-9300-5872c3ed8308"
      },
      "execution_count": null,
      "outputs": [
        {
          "output_type": "stream",
          "name": "stdout",
          "text": [
            "1\n"
          ]
        }
      ]
    },
    {
      "cell_type": "code",
      "source": [
        "print(arr.max())"
      ],
      "metadata": {
        "colab": {
          "base_uri": "https://localhost:8080/"
        },
        "id": "VswRwMvbjbom",
        "outputId": "7a322983-38b5-49c0-cb90-1d2e8523163f"
      },
      "execution_count": null,
      "outputs": [
        {
          "output_type": "stream",
          "name": "stdout",
          "text": [
            "4\n"
          ]
        }
      ]
    },
    {
      "cell_type": "code",
      "source": [
        "print(arr.mean())"
      ],
      "metadata": {
        "colab": {
          "base_uri": "https://localhost:8080/"
        },
        "id": "zc1e0mJWjU1l",
        "outputId": "45f6b5a0-b278-4ca8-9c61-974ec7f43f5b"
      },
      "execution_count": null,
      "outputs": [
        {
          "output_type": "stream",
          "name": "stdout",
          "text": [
            "2.5\n"
          ]
        }
      ]
    },
    {
      "cell_type": "code",
      "source": [
        "import numpy as np\n",
        "import random\n",
        "array=np.random.randint(16,size=(4,4))\n",
        "print(\"input array:\\n\",array)\n",
        "print(\"largest number in x axis:\",np.max (array,axis=1))\n",
        "print(\"largest number in y axis:\",np.max (array,axis=0))\n"
      ],
      "metadata": {
        "colab": {
          "base_uri": "https://localhost:8080/"
        },
        "id": "-ukw5gwUjs1l",
        "outputId": "40711d26-da8d-4ec8-bf4b-94323c67a02c"
      },
      "execution_count": null,
      "outputs": [
        {
          "output_type": "stream",
          "name": "stdout",
          "text": [
            "input array:\n",
            " [[11 12  9  8]\n",
            " [ 2  6 10 10]\n",
            " [ 6  4  0 12]\n",
            " [ 0  5  2  1]]\n",
            "largest number in x axis: [12 10 12  5]\n",
            "largest number in y axis: [11 12 10 12]\n"
          ]
        }
      ]
    },
    {
      "cell_type": "code",
      "source": [
        "import numpy as np\n",
        "import random\n",
        "array=np.random.randint(16,size=(4,4))\n",
        "print(\"input array:\\n\",array)\n",
        "print(\" smallest number in x axis:\",np.min (array,axis=1))\n",
        "print(\" smallest number in y axis:\",np.min (array,axis=0))\n",
        "print (arr.std())\n"
      ],
      "metadata": {
        "colab": {
          "base_uri": "https://localhost:8080/"
        },
        "id": "yB082L1fk4ZE",
        "outputId": "5e0239da-c2dd-48c3-9f82-cd335707f276"
      },
      "execution_count": null,
      "outputs": [
        {
          "output_type": "stream",
          "name": "stdout",
          "text": [
            "input array:\n",
            " [[ 9  0  8  9]\n",
            " [10 11  9 13]\n",
            " [13  0  8 15]\n",
            " [ 7 11 15  4]]\n",
            " smallest number in x axis: [0 9 0 4]\n",
            " smallest number in y axis: [7 0 8 4]\n",
            "1.118033988749895\n"
          ]
        }
      ]
    },
    {
      "cell_type": "code",
      "source": [
        "arr=np.array([1,2,3])\n",
        "print(arr+2)"
      ],
      "metadata": {
        "colab": {
          "base_uri": "https://localhost:8080/"
        },
        "id": "Q_cZu_n9lrf7",
        "outputId": "36b4378d-5fc8-4042-f999-d43078abd1f4"
      },
      "execution_count": null,
      "outputs": [
        {
          "output_type": "stream",
          "name": "stdout",
          "text": [
            "[3 4 5]\n"
          ]
        }
      ]
    },
    {
      "cell_type": "code",
      "source": [
        "print(np.sin(arr))"
      ],
      "metadata": {
        "colab": {
          "base_uri": "https://localhost:8080/"
        },
        "id": "OtUqjOmol5Iz",
        "outputId": "987379ce-c4d4-4ec3-a0ea-6bb3bc7104a1"
      },
      "execution_count": null,
      "outputs": [
        {
          "output_type": "stream",
          "name": "stdout",
          "text": [
            "[0.84147098 0.90929743 0.14112001]\n"
          ]
        }
      ]
    },
    {
      "cell_type": "code",
      "source": [
        "arr=np.array([1,2,3])\n",
        "arr2=np.array([1,2,3])\n",
        "print(arr+arr2)"
      ],
      "metadata": {
        "colab": {
          "base_uri": "https://localhost:8080/"
        },
        "id": "gvqynaBCmFZz",
        "outputId": "345c50e5-db81-4000-9f84-f0ad58faab49"
      },
      "execution_count": null,
      "outputs": [
        {
          "output_type": "stream",
          "name": "stdout",
          "text": [
            "[2 4 6]\n"
          ]
        }
      ]
    },
    {
      "cell_type": "code",
      "source": [
        "Squared=list(map(lambda x:x**2,arr))\n",
        "print(\"Squared using map:\",Squared)"
      ],
      "metadata": {
        "colab": {
          "base_uri": "https://localhost:8080/"
        },
        "id": "XHdBSBnEmdRb",
        "outputId": "6aa4e46f-c31b-4e20-98ec-7fd04aa2c60d"
      },
      "execution_count": null,
      "outputs": [
        {
          "output_type": "stream",
          "name": "stdout",
          "text": [
            "Squared using map: [np.int64(1), np.int64(4), np.int64(9)]\n"
          ]
        }
      ]
    },
    {
      "cell_type": "code",
      "source": [
        "def square(number):\n",
        "  return number*number\n",
        "  nums=[1,2,3,4]\n",
        "  squared_numbers=list(map(square,nums))\n",
        "  print(squared_numbers)\n",
        "  nums=[1,2,3,4,5,6]\n",
        "  squareOFnums1=list(map(lambda n:n*n,nums1))\n",
        "  print((squareOFnums1))"
      ],
      "metadata": {
        "id": "3SoTrXzSm-1q"
      },
      "execution_count": null,
      "outputs": []
    },
    {
      "cell_type": "code",
      "source": [
        "import pandas as pd\n",
        "data=pd.Series([10,20,30,40],index=['a','b','c','d'])\n",
        "print(data)"
      ],
      "metadata": {
        "colab": {
          "base_uri": "https://localhost:8080/"
        },
        "id": "WSnzGytipY8p",
        "outputId": "b06f524e-a62c-44ea-9b2e-069e51acbcc8"
      },
      "execution_count": null,
      "outputs": [
        {
          "output_type": "stream",
          "name": "stdout",
          "text": [
            "a    10\n",
            "b    20\n",
            "c    30\n",
            "d    40\n",
            "dtype: int64\n"
          ]
        }
      ]
    },
    {
      "cell_type": "code",
      "source": [
        "import pandas as pd\n",
        "data={\n",
        "    'name':['alice','bob','charlie'],\n",
        "    'age':[25,30,35],\n",
        "    'city':['delhi','mumbai','bangalore']\n",
        "}\n",
        "df=pd.DataFrame(data)\n",
        "print(df)"
      ],
      "metadata": {
        "colab": {
          "base_uri": "https://localhost:8080/"
        },
        "id": "X-teghXQqE5A",
        "outputId": "5c8b6331-4532-41a7-ddd9-9931f69c97de"
      },
      "execution_count": null,
      "outputs": [
        {
          "output_type": "stream",
          "name": "stdout",
          "text": [
            "      name  age       city\n",
            "0    alice   25      delhi\n",
            "1      bob   30     mumbai\n",
            "2  charlie   35  bangalore\n"
          ]
        }
      ]
    },
    {
      "cell_type": "code",
      "source": [
        "print(df['name'])\n",
        "print(df.loc[0])\n",
        "print(df.iloc[1])\n"
      ],
      "metadata": {
        "colab": {
          "base_uri": "https://localhost:8080/"
        },
        "id": "Iuc_UHXVsznf",
        "outputId": "3fddfa76-bd35-4436-8425-3fa185bbac9c"
      },
      "execution_count": null,
      "outputs": [
        {
          "output_type": "stream",
          "name": "stdout",
          "text": [
            "0      alice\n",
            "1        bob\n",
            "2    charlie\n",
            "Name: name, dtype: object\n",
            "name    alice\n",
            "age        25\n",
            "city    delhi\n",
            "Name: 0, dtype: object\n",
            "name       bob\n",
            "age         30\n",
            "city    mumbai\n",
            "Name: 1, dtype: object\n"
          ]
        }
      ]
    },
    {
      "cell_type": "code",
      "source": [
        "filtered =df[df['age']>25]\n",
        "print(filtered)"
      ],
      "metadata": {
        "colab": {
          "base_uri": "https://localhost:8080/"
        },
        "id": "BrG9lHDPtUPX",
        "outputId": "29fea34e-ae0c-46ef-dea2-8a7616a29d91"
      },
      "execution_count": null,
      "outputs": [
        {
          "output_type": "stream",
          "name": "stdout",
          "text": [
            "      name  age       city\n",
            "1      bob   30     mumbai\n",
            "2  charlie   35  bangalore\n"
          ]
        }
      ]
    },
    {
      "cell_type": "code",
      "source": [
        "import pandas as pd\n",
        "data={\n",
        "    'Name':['alice','bob','charlie'],\n",
        "    'age':[25,30,35]\n",
        "}\n",
        "df['salary']=[50000,60000,70000]\n",
        "df['age']=df['age']+1\n",
        "print(df)"
      ],
      "metadata": {
        "colab": {
          "base_uri": "https://localhost:8080/"
        },
        "id": "3Pqoqq2StoYw",
        "outputId": "b345a834-e621-4035-abed-085f0126fe23"
      },
      "execution_count": null,
      "outputs": [
        {
          "output_type": "stream",
          "name": "stdout",
          "text": [
            "      name  age       city  salary  Age\n",
            "0    alice   30      delhi   50000   30\n",
            "1      bob   35     mumbai   60000   35\n",
            "2  charlie   40  bangalore   70000   40\n"
          ]
        }
      ]
    },
    {
      "cell_type": "code",
      "source": [
        "import pandas as pd\n",
        "list=['apple','mango','banana','pine apple','grapes','watermelon']\n",
        "df=pd.DataFrame(list)\n",
        "print(df)"
      ],
      "metadata": {
        "colab": {
          "base_uri": "https://localhost:8080/"
        },
        "id": "famTQF2JvMX9",
        "outputId": "d52a3491-c9b2-4312-e021-34091e6c5e12"
      },
      "execution_count": null,
      "outputs": [
        {
          "output_type": "stream",
          "name": "stdout",
          "text": [
            "            0\n",
            "0       apple\n",
            "1       mango\n",
            "2      banana\n",
            "3  pine apple\n",
            "4      grapes\n",
            "5  watermelon\n"
          ]
        }
      ]
    },
    {
      "cell_type": "code",
      "source": [
        "import pandas as pd\n",
        "data={'name':['tom','nick','krish','jack'],\n",
        "      'age':[20,21,19,18]\n",
        "}\n",
        "df=pd.DataFrame(data)\n",
        "print(df)"
      ],
      "metadata": {
        "colab": {
          "base_uri": "https://localhost:8080/"
        },
        "id": "xi_tsaHZwJh0",
        "outputId": "0fac9878-2fa5-4a65-f597-a8e73c141f43"
      },
      "execution_count": null,
      "outputs": [
        {
          "output_type": "stream",
          "name": "stdout",
          "text": [
            "    name  age\n",
            "0    tom   20\n",
            "1   nick   21\n",
            "2  krish   19\n",
            "3   jack   18\n"
          ]
        }
      ]
    },
    {
      "cell_type": "code",
      "source": [
        "import pandas as pd\n",
        "data={\n",
        "    'department':['HR','HR','IT','IT','finance','finance'],\n",
        "    'employee':['alice','bob','charlie','david','eve','frank'],\n",
        "    'salary':[50000,60000,55000,70000,65000,75000],\n",
        "    'age':[25,30,28,35,29,32]\n",
        "}\n",
        "df=pd.DataFrame(data)\n",
        "print(df)\n"
      ],
      "metadata": {
        "colab": {
          "base_uri": "https://localhost:8080/"
        },
        "id": "T0hVntysxMSc",
        "outputId": "8eb7ba25-1c26-4324-89fe-83f8e75f22e2"
      },
      "execution_count": null,
      "outputs": [
        {
          "output_type": "stream",
          "name": "stdout",
          "text": [
            "  department employee  salary  age\n",
            "0         HR    alice   50000   25\n",
            "1         HR      bob   60000   30\n",
            "2         IT  charlie   55000   28\n",
            "3         IT    david   70000   35\n",
            "4    finance      eve   65000   29\n",
            "5    finance    frank   75000   32\n"
          ]
        }
      ]
    },
    {
      "cell_type": "code",
      "source": [
        "grouped=df.groupby('department')['salary'].mean()\n",
        "print(grouped)"
      ],
      "metadata": {
        "colab": {
          "base_uri": "https://localhost:8080/"
        },
        "id": "4PoHMu3zyqwq",
        "outputId": "5809c21a-78c3-45a9-a95d-3e6d385613bd"
      },
      "execution_count": null,
      "outputs": [
        {
          "output_type": "stream",
          "name": "stdout",
          "text": [
            "department\n",
            "HR         55000.0\n",
            "IT         62500.0\n",
            "finance    70000.0\n",
            "Name: salary, dtype: float64\n"
          ]
        }
      ]
    },
    {
      "cell_type": "code",
      "source": [
        "grouped=df.groupby('department')['salary'].agg(['mean','max','min'])\n",
        "print(grouped)"
      ],
      "metadata": {
        "colab": {
          "base_uri": "https://localhost:8080/"
        },
        "id": "4WbDww2BzpeT",
        "outputId": "1df20e60-29f7-4eb4-bc8f-c9aeef3b433a"
      },
      "execution_count": null,
      "outputs": [
        {
          "output_type": "stream",
          "name": "stdout",
          "text": [
            "               mean    max    min\n",
            "department                       \n",
            "HR          55000.0  60000  50000\n",
            "IT          62500.0  70000  55000\n",
            "finance     70000.0  75000  65000\n"
          ]
        }
      ]
    },
    {
      "cell_type": "code",
      "source": [
        "df['location']=['mumbai','delhi','mumbai','delhi','mumbai','delhi']\n",
        "\n",
        "grouped=df.groupby(['department','location'])['salary'].mean()\n",
        "print(grouped)"
      ],
      "metadata": {
        "colab": {
          "base_uri": "https://localhost:8080/"
        },
        "id": "nWh1Cr7q14BJ",
        "outputId": "2cb9959b-b8bc-4716-a6f0-bcbf658106b2"
      },
      "execution_count": null,
      "outputs": [
        {
          "output_type": "stream",
          "name": "stdout",
          "text": [
            "department  location\n",
            "HR          delhi       60000.0\n",
            "            mumbai      50000.0\n",
            "IT          delhi       70000.0\n",
            "            mumbai      55000.0\n",
            "finance     delhi       75000.0\n",
            "            mumbai      65000.0\n",
            "Name: salary, dtype: float64\n"
          ]
        }
      ]
    },
    {
      "cell_type": "code",
      "source": [
        "import pandas as pd\n",
        "d1={\n",
        "    \"name\":[\"pankaj\",\"lisa\",\"David\"],\n",
        "    \"id\":[1,2,3],\n",
        "    \"role\":[\"CEO\",\"editor\",\"author\"]\n",
        "    }\n",
        "df=pd.DataFrame(d1)\n",
        "print(df)\n",
        "df_melted=pd.melt(df,id_vars=[\"id\"],value_vars=[\"name\",\"role\"])\n",
        "print(df_melted)"
      ],
      "metadata": {
        "id": "meo-wSne25Og",
        "colab": {
          "base_uri": "https://localhost:8080/"
        },
        "outputId": "f2cb730c-1b37-4ed1-e5f1-4d7351c6e626"
      },
      "execution_count": null,
      "outputs": [
        {
          "output_type": "stream",
          "name": "stdout",
          "text": [
            "     name  id    role\n",
            "0  pankaj   1     CEO\n",
            "1    lisa   2  editor\n",
            "2   David   3  author\n",
            "   id variable   value\n",
            "0   1     name  pankaj\n",
            "1   2     name    lisa\n",
            "2   3     name   David\n",
            "3   1     role     CEO\n",
            "4   2     role  editor\n",
            "5   3     role  author\n"
          ]
        }
      ]
    },
    {
      "cell_type": "code",
      "source": [
        "import pandas as pd\n",
        "data={\n",
        "    \"date\":['2024-01-01','2024-01-01','2024-01-02','2024-01-02'],\n",
        "    \"city\":['mumbai','delhi','mumbai','delhi'],\n",
        "    \"temperature\":[30,35,28,25]\n",
        "}\n",
        "df=pd.DataFrame(data)\n",
        "print(\"original:\\n\",df)\n",
        "pivoted=df.pivot(index='date',columns='city',values='temperature')\n",
        "print(\"pivoted:\\n\",pivoted)\n"
      ],
      "metadata": {
        "colab": {
          "base_uri": "https://localhost:8080/"
        },
        "id": "7TywwuDoyq1_",
        "outputId": "d69bc30b-b16b-4911-fe73-2aea10499863"
      },
      "execution_count": null,
      "outputs": [
        {
          "output_type": "stream",
          "name": "stdout",
          "text": [
            "original:\n",
            "          date    city  temperature\n",
            "0  2024-01-01  mumbai           30\n",
            "1  2024-01-01   delhi           35\n",
            "2  2024-01-02  mumbai           28\n",
            "3  2024-01-02   delhi           25\n",
            "pivoted:\n",
            " city        delhi  mumbai\n",
            "date                     \n",
            "2024-01-01     35      30\n",
            "2024-01-02     25      28\n"
          ]
        }
      ]
    },
    {
      "cell_type": "code",
      "source": [
        "import pandas as pd\n",
        "data={\n",
        "    'student':['alice','bob','charlie'],\n",
        "    'math':[85,90,78],\n",
        "    'english':[75,80,72]\n",
        "}\n",
        "df=pd.DataFrame(data)\n",
        "print(\"original wide DataFrame:\\n\",df)"
      ],
      "metadata": {
        "colab": {
          "base_uri": "https://localhost:8080/"
        },
        "id": "lPevwi8Z1Jl3",
        "outputId": "1ebd4d1f-2043-436b-a812-1e397cce4c8e"
      },
      "execution_count": null,
      "outputs": [
        {
          "output_type": "stream",
          "name": "stdout",
          "text": [
            "original wide DataFrame:\n",
            "    student  math  english\n",
            "0    alice    85       75\n",
            "1      bob    90       80\n",
            "2  charlie    78       72\n"
          ]
        }
      ]
    },
    {
      "cell_type": "code",
      "source": [
        "melted_df=pd.melt(df)\n",
        "id_vars=['student'],\n",
        "var_name=['subject'],\n",
        "value_name=['marks']\n",
        "print(\"\\n melted long DataFrame :\\n\",melted_df)"
      ],
      "metadata": {
        "colab": {
          "base_uri": "https://localhost:8080/"
        },
        "id": "rCN7sF811_EW",
        "outputId": "bbddd4d9-ac45-41b0-85c7-effb77becce3"
      },
      "execution_count": null,
      "outputs": [
        {
          "output_type": "stream",
          "name": "stdout",
          "text": [
            "\n",
            " melted long DataFrame :\n",
            "   variable    value\n",
            "0  student    alice\n",
            "1  student      bob\n",
            "2  student  charlie\n",
            "3     math       85\n",
            "4     math       90\n",
            "5     math       78\n",
            "6  english       75\n",
            "7  english       80\n",
            "8  english       72\n"
          ]
        }
      ]
    },
    {
      "cell_type": "code",
      "source": [
        "import pandas as pd\n",
        "import numpy as np\n",
        "dates=pd.date_range(start='2024-01-01',periods=10,freq='D')\n",
        "ts=pd.Series(np.random.randint(100,200,size=10),index=dates)\n",
        "print(ts)"
      ],
      "metadata": {
        "colab": {
          "base_uri": "https://localhost:8080/"
        },
        "id": "r1qNVcU32z-V",
        "outputId": "27f31112-5f46-44b8-d3f6-77c4b0a30851"
      },
      "execution_count": null,
      "outputs": [
        {
          "output_type": "stream",
          "name": "stdout",
          "text": [
            "2024-01-01    189\n",
            "2024-01-02    161\n",
            "2024-01-03    186\n",
            "2024-01-04    163\n",
            "2024-01-05    172\n",
            "2024-01-06    117\n",
            "2024-01-07    128\n",
            "2024-01-08    112\n",
            "2024-01-09    132\n",
            "2024-01-10    158\n",
            "Freq: D, dtype: int64\n"
          ]
        }
      ]
    },
    {
      "cell_type": "code",
      "source": [
        "df=pd.DataFrame({\n",
        "    'date':['2024-01-01','2024-01-02','2024-01-03'],\n",
        "    'value':[120,135,150]\n",
        "})\n",
        "df['date']=pd.to_datetime(df['date'])\n",
        "print(df)\n"
      ],
      "metadata": {
        "colab": {
          "base_uri": "https://localhost:8080/"
        },
        "id": "xTEnG7ZT4QQL",
        "outputId": "de2b4383-8ba4-4f55-d6fd-b1dd7446da24"
      },
      "execution_count": null,
      "outputs": [
        {
          "output_type": "stream",
          "name": "stdout",
          "text": [
            "        date  value\n",
            "0 2024-01-01    120\n",
            "1 2024-01-02    135\n",
            "2 2024-01-03    150\n"
          ]
        }
      ]
    },
    {
      "cell_type": "code",
      "source": [
        "print(ts['2024-01-04'])\n",
        "print(ts['2024-01-03':'2024-01-07'])\n",
        "print(ts['2024-01'])"
      ],
      "metadata": {
        "colab": {
          "base_uri": "https://localhost:8080/"
        },
        "id": "JLxoOkmW8Oa_",
        "outputId": "125333cd-766c-4547-9367-594896e3bd76"
      },
      "execution_count": null,
      "outputs": [
        {
          "output_type": "stream",
          "name": "stdout",
          "text": [
            "163\n",
            "2024-01-03    186\n",
            "2024-01-04    163\n",
            "2024-01-05    172\n",
            "2024-01-06    117\n",
            "2024-01-07    128\n",
            "Freq: D, dtype: int64\n",
            "2024-01-01    189\n",
            "2024-01-02    161\n",
            "2024-01-03    186\n",
            "2024-01-04    163\n",
            "2024-01-05    172\n",
            "2024-01-06    117\n",
            "2024-01-07    128\n",
            "2024-01-08    112\n",
            "2024-01-09    132\n",
            "2024-01-10    158\n",
            "Freq: D, dtype: int64\n"
          ]
        }
      ]
    },
    {
      "cell_type": "code",
      "source": [
        "import pandas as pd\n",
        "import numpy as np\n",
        "\n",
        "df=pd.DataFrame({\n",
        "    'name':['alice','bob','charlie','david'],\n",
        "    'age':[25,32,30,29],\n",
        "    'salary':[50000,60000,55000,70000]\n",
        "})\n",
        "print(df)"
      ],
      "metadata": {
        "colab": {
          "base_uri": "https://localhost:8080/"
        },
        "id": "_QeTfscu8j4u",
        "outputId": "b51d9896-754a-423f-8910-65b527ab44f0"
      },
      "execution_count": null,
      "outputs": [
        {
          "output_type": "stream",
          "name": "stdout",
          "text": [
            "      name  age  salary\n",
            "0    alice   25   50000\n",
            "1      bob   32   60000\n",
            "2  charlie   30   55000\n",
            "3    david   29   70000\n"
          ]
        }
      ]
    },
    {
      "cell_type": "code",
      "source": [
        "df['updated_salary']=df['salary'].apply(lambda x:x*1.10)\n",
        "df['age_group']=df['age'].apply(lambda x:'young' if x <30 else 'adult')\n",
        "print(df)"
      ],
      "metadata": {
        "colab": {
          "base_uri": "https://localhost:8080/"
        },
        "id": "JouTzqNO9NoW",
        "outputId": "9e70187d-5a3f-4e48-921c-03dc2366f1c4"
      },
      "execution_count": null,
      "outputs": [
        {
          "output_type": "stream",
          "name": "stdout",
          "text": [
            "      name  age  salary  updated_salary age_group\n",
            "0    alice   25   50000         55000.0     young\n",
            "1      bob   32   60000         66000.0     adult\n",
            "2  charlie   30   55000         60500.0     adult\n",
            "3    david   29   70000         77000.0     young\n"
          ]
        }
      ]
    },
    {
      "cell_type": "code",
      "source": [
        "df['name_upper']=df['name'].apply(lambda x:x.upper())\n",
        "salary_levels={50000:'low',55000:'medium',60000:'high'}\n",
        "df['salary_level']=df['salary'].map(salary_levels)\n",
        "print(df)"
      ],
      "metadata": {
        "colab": {
          "base_uri": "https://localhost:8080/"
        },
        "id": "5xYawL2n9x2F",
        "outputId": "d056ae44-062e-47ff-a815-13bf08bd85de"
      },
      "execution_count": null,
      "outputs": [
        {
          "output_type": "stream",
          "name": "stdout",
          "text": [
            "      name  age  salary  updated_salary age_group name_upper salary_level\n",
            "0    alice   25   50000         55000.0     young      ALICE          low\n",
            "1      bob   32   60000         66000.0     adult        BOB         high\n",
            "2  charlie   30   55000         60500.0     adult    CHARLIE       medium\n",
            "3    david   29   70000         77000.0     young      DAVID          NaN\n"
          ]
        }
      ]
    },
    {
      "cell_type": "code",
      "source": [
        "filtered_df=df[df['salary']>52000]\n",
        "filtered_df=df[df['name'].apply(lambda x:x.startswith('a'))]\n",
        "print(filtered_df)"
      ],
      "metadata": {
        "colab": {
          "base_uri": "https://localhost:8080/"
        },
        "id": "gHsroxCz-N3V",
        "outputId": "643ac777-092a-4e85-feb5-33702226f871"
      },
      "execution_count": null,
      "outputs": [
        {
          "output_type": "stream",
          "name": "stdout",
          "text": [
            "    name  age  salary  updated_salary age_group name_upper salary_level\n",
            "0  alice   25   50000         55000.0     young      ALICE          low\n"
          ]
        }
      ]
    },
    {
      "cell_type": "code",
      "execution_count": null,
      "metadata": {
        "id": "O8ZqkPXONzd_",
        "colab": {
          "base_uri": "https://localhost:8080/"
        },
        "outputId": "89d79404-c0f8-44a1-fe60-101e71a87dd6"
      },
      "outputs": [
        {
          "output_type": "stream",
          "name": "stdout",
          "text": [
            "<class 'pandas.core.frame.DataFrame'>\n",
            "RangeIndex: 150 entries, 0 to 149\n",
            "Data columns (total 5 columns):\n",
            " #   Column        Non-Null Count  Dtype  \n",
            "---  ------        --------------  -----  \n",
            " 0   sepal_length  150 non-null    float64\n",
            " 1   sepal_width   150 non-null    float64\n",
            " 2   petal_length  150 non-null    float64\n",
            " 3   petal_width   150 non-null    float64\n",
            " 4   species       150 non-null    object \n",
            "dtypes: float64(4), object(1)\n",
            "memory usage: 6.0+ KB\n",
            "None\n",
            "       sepal_length  sepal_width  petal_length  petal_width\n",
            "count    150.000000   150.000000    150.000000   150.000000\n",
            "mean       5.843333     3.054000      3.758667     1.198667\n",
            "std        0.828066     0.433594      1.764420     0.763161\n",
            "min        4.300000     2.000000      1.000000     0.100000\n",
            "25%        5.100000     2.800000      1.600000     0.300000\n",
            "50%        5.800000     3.000000      4.350000     1.300000\n",
            "75%        6.400000     3.300000      5.100000     1.800000\n",
            "max        7.900000     4.400000      6.900000     2.500000\n"
          ]
        }
      ],
      "source": [
        "import pandas as pd\n",
        "df=pd.read_csv('/content/iris.csv')\n",
        "print(df.info())\n",
        "print(df.describe())"
      ]
    },
    {
      "cell_type": "code",
      "source": [
        "import pandas as pd\n",
        "import matplotlib.pyplot as plt\n",
        "x=df['sepal_length']\n",
        "y=df['sepal_width']\n",
        "plt.scatter(x,y)\n",
        "plt.xlabel('sepal_length')\n",
        "plt.ylabel('sepal_width')\n",
        "plt.title('scatter plot for iris dataset')\n",
        "plt.show()"
      ],
      "metadata": {
        "colab": {
          "base_uri": "https://localhost:8080/",
          "height": 472
        },
        "id": "WfvJVgLYQQva",
        "outputId": "2cc0f999-020d-4761-ad86-0a70a5d8b48f"
      },
      "execution_count": null,
      "outputs": [
        {
          "output_type": "display_data",
          "data": {
            "text/plain": [
              "<Figure size 640x480 with 1 Axes>"
            ],
            "image/png": "[encoded data removed]"
          },
          "metadata": {}
        }
      ]
    },
    {
      "cell_type": "code",
      "source": [
        "import pandas as pd\n",
        "df=pd.read_csv('/content/tips.csv')\n",
        "print(df.head())\n",
        "print(df.tail())\n",
        "print(df.info())\n",
        "print(df.describe())"
      ],
      "metadata": {
        "colab": {
          "base_uri": "https://localhost:8080/"
        },
        "id": "QSZ3auZa6v4w",
        "outputId": "023d1a2b-f884-493e-ea2a-94b2864f68af"
      },
      "execution_count": null,
      "outputs": [
        {
          "output_type": "stream",
          "name": "stdout",
          "text": [
            "   total_bill   tip     sex smoker  day    time  size\n",
            "0       16.99  1.01  Female     No  Sun  Dinner     2\n",
            "1       10.34  1.66    Male     No  Sun  Dinner     3\n",
            "2       21.01  3.50    Male     No  Sun  Dinner     3\n",
            "3       23.68  3.31    Male     No  Sun  Dinner     2\n",
            "4       24.59  3.61  Female     No  Sun  Dinner     4\n",
            "     total_bill   tip     sex smoker   day    time  size\n",
            "239       29.03  5.92    Male     No   Sat  Dinner     3\n",
            "240       27.18  2.00  Female    Yes   Sat  Dinner     2\n",
            "241       22.67  2.00    Male    Yes   Sat  Dinner     2\n",
            "242       17.82  1.75    Male     No   Sat  Dinner     2\n",
            "243       18.78  3.00  Female     No  Thur  Dinner     2\n",
            "<class 'pandas.core.frame.DataFrame'>\n",
            "RangeIndex: 244 entries, 0 to 243\n",
            "Data columns (total 7 columns):\n",
            " #   Column      Non-Null Count  Dtype  \n",
            "---  ------      --------------  -----  \n",
            " 0   total_bill  244 non-null    float64\n",
            " 1   tip         244 non-null    float64\n",
            " 2   sex         244 non-null    object \n",
            " 3   smoker      244 non-null    object \n",
            " 4   day         244 non-null    object \n",
            " 5   time        244 non-null    object \n",
            " 6   size        244 non-null    int64  \n",
            "dtypes: float64(2), int64(1), object(4)\n",
            "memory usage: 13.5+ KB\n",
            "None\n",
            "       total_bill         tip        size\n",
            "count  244.000000  244.000000  244.000000\n",
            "mean    19.785943    2.998279    2.569672\n",
            "std      8.902412    1.383638    0.951100\n",
            "min      3.070000    1.000000    1.000000\n",
            "25%     13.347500    2.000000    2.000000\n",
            "50%     17.795000    2.900000    2.000000\n",
            "75%     24.127500    3.562500    3.000000\n",
            "max     50.810000   10.000000    6.000000\n"
          ]
        }
      ]
    },
    {
      "cell_type": "code",
      "source": [
        "import pandas as pd\n",
        "import matplotlib.pyplot as plt\n",
        "x=df['total_bill']\n",
        "y=df['tip']\n",
        "plt.scatter(x,y)\n",
        "plt.xlabel('total_bill')\n",
        "plt.ylabel('tip')\n",
        "plt.title('scatter plot for tips dataset')\n",
        "plt.show()\n"
      ],
      "metadata": {
        "colab": {
          "base_uri": "https://localhost:8080/",
          "height": 472
        },
        "id": "cnenwr4-6KqC",
        "outputId": "7228af6f-bd39-4331-a5a9-0acc17ae9f1a"
      },
      "execution_count": null,
      "outputs": [
        {
          "output_type": "display_data",
          "data": {
            "text/plain": [
              "<Figure size 640x480 with 1 Axes>"
            ],
            "image/png": "[encoded data removed]"
          },
          "metadata": {}
        }
      ]
    },
    {
      "cell_type": "code",
      "source": [
        "import pandas as pd\n",
        "import matplotlib.pyplot as plt\n",
        "x=df['total_bill']\n",
        "y=df['tip']\n",
        "\n",
        "color={'Male':'blue','Female':'red'}\n",
        "sp_color=df['sex'].map(color)\n",
        "\n",
        "plt.scatter(x,y,c=sp_color)\n",
        "plt.xlabel('total_bill')\n",
        "plt.ylabel('tips')\n",
        "plt.title('scatter plot for tips dataset')\n",
        "plt.show()"
      ],
      "metadata": {
        "colab": {
          "base_uri": "https://localhost:8080/",
          "height": 472
        },
        "id": "coyZz76f3yl0",
        "outputId": "fb72e648-5449-44e2-a8a2-1d12ce4b7159"
      },
      "execution_count": null,
      "outputs": [
        {
          "output_type": "display_data",
          "data": {
            "text/plain": [
              "<Figure size 640x480 with 1 Axes>"
            ],
            "image/png": "[encoded data removed]"
          },
          "metadata": {}
        }
      ]
    },
    {
      "cell_type": "code",
      "source": [
        "import pandas as pd\n",
        "import matplotlib.pyplot as plt\n",
        "x=df['sepal_length']\n",
        "y=df['sepal_width']\n",
        "color={'setosa':'red','versicolor':'blue','virginica':'green'}\n",
        "sp_color=df['species'].map(color)\n",
        "plt.scatter(x,y,c=sp_color)\n",
        "plt.xlabel('sepal_length')\n",
        "plt.ylabel('sepal_width')\n",
        "plt.title('scatter plot for iris dataset')\n",
        "plt.show()\n"
      ],
      "metadata": {
        "colab": {
          "base_uri": "https://localhost:8080/",
          "height": 472
        },
        "id": "87gVJLeCS0m5",
        "outputId": "b6498e27-868f-4345-e103-430fe9e9a4dc"
      },
      "execution_count": null,
      "outputs": [
        {
          "output_type": "display_data",
          "data": {
            "text/plain": [
              "<Figure size 640x480 with 1 Axes>"
            ],
            "image/png": "[encoded data removed]"
          },
          "metadata": {}
        }
      ]
    },
    {
      "cell_type": "code",
      "source": [
        "import pandas as pd\n",
        "import matplotlib.pyplot as plt\n",
        "df_iris=pd.read_csv('/content/iris.csv')\n",
        "\n",
        "species_counts=df_iris['species'].value_counts()\n",
        "plt.bar(species_counts.index,species_counts.values,color='blue')\n",
        "plt.xlabel('species')\n",
        "plt.ylabel('count')\n",
        "plt.title('bar plot for iris dataset')\n",
        "plt.show()\n"
      ],
      "metadata": {
        "colab": {
          "base_uri": "https://localhost:8080/",
          "height": 472
        },
        "id": "vlfdRpbP_xMY",
        "outputId": "21e5280b-00c0-44a0-ffe5-0e65b41dbd48"
      },
      "execution_count": null,
      "outputs": [
        {
          "output_type": "display_data",
          "data": {
            "text/plain": [
              "<Figure size 640x480 with 1 Axes>"
            ],
            "image/png": "[encoded data removed]"
          },
          "metadata": {}
        }
      ]
    },
    {
      "cell_type": "code",
      "source": [
        "import pandas as pd\n",
        "df=pd.read_csv('/content/wine.csv')\n",
        "print(df.head())\n",
        "print(df.tail())\n",
        "print(df.info())\n",
        "print(df.describe())\n"
      ],
      "metadata": {
        "colab": {
          "base_uri": "https://localhost:8080/"
        },
        "id": "TEyb1FunC13g",
        "outputId": "30fb361a-2ede-4fe3-d601-edc5f3428238"
      },
      "execution_count": null,
      "outputs": [
        {
          "output_type": "stream",
          "name": "stdout",
          "text": [
            "   Wine  Alcohol  Malic.acid   Ash   Acl   Mg  Phenols  Flavanoids  \\\n",
            "0     1    14.23        1.71  2.43  15.6  127     2.80        3.06   \n",
            "1     1    13.20        1.78  2.14  11.2  100     2.65        2.76   \n",
            "2     1    13.16        2.36  2.67  18.6  101     2.80        3.24   \n",
            "3     1    14.37        1.95  2.50  16.8  113     3.85        3.49   \n",
            "4     1    13.24        2.59  2.87  21.0  118     2.80        2.69   \n",
            "\n",
            "   Nonflavanoid.phenols  Proanth  Color.int   Hue    OD  Proline  \n",
            "0                  0.28     2.29       5.64  1.04  3.92     1065  \n",
            "1                  0.26     1.28       4.38  1.05  3.40     1050  \n",
            "2                  0.30     2.81       5.68  1.03  3.17     1185  \n",
            "3                  0.24     2.18       7.80  0.86  3.45     1480  \n",
            "4                  0.39     1.82       4.32  1.04  2.93      735  \n",
            "     Wine  Alcohol  Malic.acid   Ash   Acl   Mg  Phenols  Flavanoids  \\\n",
            "173     3    13.71        5.65  2.45  20.5   95     1.68        0.61   \n",
            "174     3    13.40        3.91  2.48  23.0  102     1.80        0.75   \n",
            "175     3    13.27        4.28  2.26  20.0  120     1.59        0.69   \n",
            "176     3    13.17        2.59  2.37  20.0  120     1.65        0.68   \n",
            "177     3    14.13        4.10  2.74  24.5   96     2.05        0.76   \n",
            "\n",
            "     Nonflavanoid.phenols  Proanth  Color.int   Hue    OD  Proline  \n",
            "173                  0.52     1.06        7.7  0.64  1.74      740  \n",
            "174                  0.43     1.41        7.3  0.70  1.56      750  \n",
            "175                  0.43     1.35       10.2  0.59  1.56      835  \n",
            "176                  0.53     1.46        9.3  0.60  1.62      840  \n",
            "177                  0.56     1.35        9.2  0.61  1.60      560  \n",
            "<class 'pandas.core.frame.DataFrame'>\n",
            "RangeIndex: 178 entries, 0 to 177\n",
            "Data columns (total 14 columns):\n",
            " #   Column                Non-Null Count  Dtype  \n",
            "---  ------                --------------  -----  \n",
            " 0   Wine                  178 non-null    int64  \n",
            " 1   Alcohol               178 non-null    float64\n",
            " 2   Malic.acid            178 non-null    float64\n",
            " 3   Ash                   178 non-null    float64\n",
            " 4   Acl                   178 non-null    float64\n",
            " 5   Mg                    178 non-null    int64  \n",
            " 6   Phenols               178 non-null    float64\n",
            " 7   Flavanoids            178 non-null    float64\n",
            " 8   Nonflavanoid.phenols  178 non-null    float64\n",
            " 9   Proanth               178 non-null    float64\n",
            " 10  Color.int             178 non-null    float64\n",
            " 11  Hue                   178 non-null    float64\n",
            " 12  OD                    178 non-null    float64\n",
            " 13  Proline               178 non-null    int64  \n",
            "dtypes: float64(11), int64(3)\n",
            "memory usage: 19.6 KB\n",
            "None\n",
            "             Wine     Alcohol  Malic.acid         Ash         Acl          Mg  \\\n",
            "count  178.000000  178.000000  178.000000  178.000000  178.000000  178.000000   \n",
            "mean     1.938202   13.000618    2.336348    2.366517   19.494944   99.741573   \n",
            "std      0.775035    0.811827    1.117146    0.274344    3.339564   14.282484   \n",
            "min      1.000000   11.030000    0.740000    1.360000   10.600000   70.000000   \n",
            "25%      1.000000   12.362500    1.602500    2.210000   17.200000   88.000000   \n",
            "50%      2.000000   13.050000    1.865000    2.360000   19.500000   98.000000   \n",
            "75%      3.000000   13.677500    3.082500    2.557500   21.500000  107.000000   \n",
            "max      3.000000   14.830000    5.800000    3.230000   30.000000  162.000000   \n",
            "\n",
            "          Phenols  Flavanoids  Nonflavanoid.phenols     Proanth   Color.int  \\\n",
            "count  178.000000  178.000000            178.000000  178.000000  178.000000   \n",
            "mean     2.295112    2.029270              0.361854    1.590899    5.058090   \n",
            "std      0.625851    0.998859              0.124453    0.572359    2.318286   \n",
            "min      0.980000    0.340000              0.130000    0.410000    1.280000   \n",
            "25%      1.742500    1.205000              0.270000    1.250000    3.220000   \n",
            "50%      2.355000    2.135000              0.340000    1.555000    4.690000   \n",
            "75%      2.800000    2.875000              0.437500    1.950000    6.200000   \n",
            "max      3.880000    5.080000              0.660000    3.580000   13.000000   \n",
            "\n",
            "              Hue          OD      Proline  \n",
            "count  178.000000  178.000000   178.000000  \n",
            "mean     0.957449    2.611685   746.893258  \n",
            "std      0.228572    0.709990   314.907474  \n",
            "min      0.480000    1.270000   278.000000  \n",
            "25%      0.782500    1.937500   500.500000  \n",
            "50%      0.965000    2.780000   673.500000  \n",
            "75%      1.120000    3.170000   985.000000  \n",
            "max      1.710000    4.000000  1680.000000  \n"
          ]
        }
      ]
    }
  ]
}